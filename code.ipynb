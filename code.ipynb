{
  "nbformat": 4,
  "nbformat_minor": 0,
  "metadata": {
    "colab": {
      "provenance": [],
      "authorship_tag": "ABX9TyNRfg+4DV277ILM9qztZdI/",
      "include_colab_link": true
    },
    "kernelspec": {
      "name": "ir",
      "display_name": "R"
    },
    "language_info": {
      "name": "R"
    }
  },
  "cells": [
    {
      "cell_type": "markdown",
      "metadata": {
        "id": "view-in-github",
        "colab_type": "text"
      },
      "source": [
        "<a href=\"https://colab.research.google.com/github/mpbeck/ANS-128-GP-The-Explorers-/blob/main/code.ipynb\" target=\"_parent\"><img src=\"https://colab.research.google.com/assets/colab-badge.svg\" alt=\"Open In Colab\"/></a>"
      ]
    },
    {
      "cell_type": "code",
      "execution_count": 3,
      "metadata": {
        "id": "cJ7TEaymTIV7",
        "collapsed": true
      },
      "outputs": [],
      "source": [
        "# Change runtime to R\n",
        "system(\"git clone https://github.com/mpbeck/ANS-128-GP-The-Explorers-.git\")"
      ]
    },
    {
      "cell_type": "code",
      "source": [
        "library(tidyverse)\n",
        "data <- read.csv(\"/content/ANS-128-GP-The-Explorers-/Avian Influenza (HPAI).csv\")\n",
        "class(data)"
      ],
      "metadata": {
        "colab": {
          "base_uri": "https://localhost:8080/",
          "height": 34
        },
        "id": "WDvMNBBtaYcH",
        "outputId": "3a63ca94-d471-454d-b5dc-db3d7c087338"
      },
      "execution_count": 15,
      "outputs": [
        {
          "output_type": "display_data",
          "data": {
            "text/html": [
              "'data.frame'"
            ],
            "text/markdown": "'data.frame'",
            "text/latex": "'data.frame'",
            "text/plain": [
              "[1] \"data.frame\""
            ]
          },
          "metadata": {}
        }
      ]
    },
    {
      "cell_type": "code",
      "source": [
        "# Data cleaning & regression analysis\n",
        "#summary(data$target_H5_HPAI)\n",
        "data <- data %>%\n",
        "  mutate(\n",
        "    Common_Name = str_replace_all(Common_Name, \" \", \"_\")\n",
        "    Year = as.factor(Year),\n",
        "    Month = as.factor(Month),\n",
        "    Day = as.factor(Day),\n",
        "    State = as.factor(State),\n",
        "    County = as.factor(County),\n",
        "    Locality = as.factor(Locality),\n",
        "    AvianFluStatus = factor(AvianFluStatus, levels = c(0,1), labels = c(\"No\",\"Yes\"))\n",
        "  )\n",
        "length(unique(data$Common_Name))"
      ],
      "metadata": {
        "id": "7EfCe4aka267",
        "outputId": "532663d9-207a-4cff-fbba-647073077f23",
        "colab": {
          "base_uri": "https://localhost:8080/",
          "height": 34
        }
      },
      "execution_count": 14,
      "outputs": [
        {
          "output_type": "display_data",
          "data": {
            "text/html": [
              "410"
            ],
            "text/markdown": "410",
            "text/latex": "410",
            "text/plain": [
              "[1] 410"
            ]
          },
          "metadata": {}
        }
      ]
    }
  ]
}