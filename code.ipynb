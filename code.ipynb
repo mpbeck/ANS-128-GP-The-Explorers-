{
  "nbformat": 4,
  "nbformat_minor": 0,
  "metadata": {
    "colab": {
      "provenance": [],
      "authorship_tag": "ABX9TyMFCw3po8E5AWsULjb2HtaT",
      "include_colab_link": true
    },
    "kernelspec": {
      "name": "ir",
      "display_name": "R"
    },
    "language_info": {
      "name": "R"
    }
  },
  "cells": [
    {
      "cell_type": "markdown",
      "metadata": {
        "id": "view-in-github",
        "colab_type": "text"
      },
      "source": [
        "<a href=\"https://colab.research.google.com/github/mpbeck/ANS-128-GP-The-Explorers-/blob/main/code.ipynb\" target=\"_parent\"><img src=\"https://colab.research.google.com/assets/colab-badge.svg\" alt=\"Open In Colab\"/></a>"
      ]
    },
    {
      "cell_type": "code",
      "execution_count": null,
      "metadata": {
        "id": "cJ7TEaymTIV7",
        "collapsed": true
      },
      "outputs": [],
      "source": [
        "# Change runtime to R\n",
        "system(\"git clone https://github.com/mpbeck/ANS-128-GP-The-Explorers-.git\")"
      ]
    },
    {
      "cell_type": "code",
      "source": [
        "library(tidyverse)\n",
        "library(dplyr)\n",
        "library(lubridate)\n",
        "library(cluster)\n",
        "data <- read.csv(\"/content/ANS-128-GP-The-Explorers-/Avian Influenza (HPAI).csv\")\n",
        "class(data)"
      ],
      "metadata": {
        "colab": {
          "base_uri": "https://localhost:8080/",
          "height": 34
        },
        "id": "WDvMNBBtaYcH",
        "outputId": "18dec64f-b4a8-4029-a3da-0a4a31014e56"
      },
      "execution_count": null,
      "outputs": [
        {
          "output_type": "display_data",
          "data": {
            "text/html": [
              "'data.frame'"
            ],
            "text/markdown": "'data.frame'",
            "text/latex": "'data.frame'",
            "text/plain": [
              "[1] \"data.frame\""
            ]
          },
          "metadata": {}
        }
      ]
    },
    {
      "cell_type": "code",
      "source": [
        "# Data cleaning & regression analysis\n",
        "#summary(data$target_H5_HPAI)\n",
        "data <- data %>%\n",
        "  mutate(\n",
        "    Common_Name = str_replace_all(Common_Name, \" \", \"_\"),\n",
        "    Locality = str_replace_all(Locality, \" \", \"_\"),\n",
        "    Species = as.factor(Common_Name),\n",
        "    State = as.factor(State),\n",
        "    County = as.factor(County),\n",
        "    Locality = as.factor(Locality),\n",
        "    target_H5_HPAI = as.factor(target_H5_HPAI),\n",
        "    Year = as.integer(as.character(Year)),\n",
        "    Month = as.integer(as.character(Month)),\n",
        "    Day = as.integer(as.character(Day)),\n",
        "    date = make_date(Year, Month, Day),\n",
        "    day_of_year = yday(date) # Converted date to number of days in the given year\n",
        "  )\n",
        "\n",
        "#head(data[, c(\"Species\", \"State\", \"County\", \"Locality\", \"day_of_year\", \"target_H5_HPAI\")])\n",
        "summary(data[, c(\"Species\", \"State\", \"County\", \"Locality\", \"Year\", \"target_H5_HPAI\")])"
      ],
      "metadata": {
        "colab": {
          "base_uri": "https://localhost:8080/",
          "height": 305
        },
        "id": "7EfCe4aka267",
        "outputId": "73a26caf-6abd-45a4-e676-55b39e8c7f06"
      },
      "execution_count": null,
      "outputs": [
        {
          "output_type": "display_data",
          "data": {
            "text/plain": [
              "              Species            State          County    \n",
              " European_Robin   :  420   Connaught:2927   Dublin :5191  \n",
              " Black-headed_Gull:  332   Leinster :8405   Galway :2502  \n",
              " Rook             :  278   Munster  :4386   Kerry  :1408  \n",
              " Herring_Gull     :  276   Ulster   : 586   Wicklow:1390  \n",
              " Mute_Swan        :  273                    Cork   :1275  \n",
              " Hooded_Crow      :  271                    (Other):4409  \n",
              " (Other)          :14454                    NA's   : 129  \n",
              "                            Locality          Year      target_H5_HPAI\n",
              " Rogerstown_Estuary--Turvey_Hide:  464   Min.   :1980   0:13719       \n",
              " East_Coast_NR                  :  438   1st Qu.:2016   1: 2585       \n",
              " Rogerstown_Estuary--North_Hide :  381   Median :2018                 \n",
              " St._Stephen's_Green            :  376   Mean   :2017                 \n",
              " Lough_Atalia                   :  331   3rd Qu.:2019                 \n",
              " Tacumshin_Lake--general_area   :  314   Max.   :2020                 \n",
              " (Other)                        :14000                                "
            ]
          },
          "metadata": {}
        }
      ]
    },
    {
      "cell_type": "code",
      "source": [
        "num_species <- data %>%\n",
        "  distinct(Common_Name) %>%\n",
        "  nrow()\n",
        "length(unique(data$Common_Name)) == num_species # 410 species\n",
        "length(unique(data$State)) # 4 States\n",
        "length(unique(data$County)) # 27 Counties\n",
        "length(unique(data$Locality)) # 1288 Localities\n",
        "length(unique(data$Year)) # 21 Years\n",
        "\n",
        "model <- glm(target_H5_HPAI ~ 1 + Year + day_of_year + State + County, data = data, family = binomial)\n",
        "summary(model) # 3 varibles ommited due to colinerality"
      ],
      "metadata": {
        "collapsed": true,
        "id": "wnQa6UoLLrgY",
        "outputId": "3c814bd2-5c60-4118-f74a-a593672913cd",
        "colab": {
          "base_uri": "https://localhost:8080/",
          "height": 986
        }
      },
      "execution_count": null,
      "outputs": [
        {
          "output_type": "display_data",
          "data": {
            "text/html": [
              "TRUE"
            ],
            "text/markdown": "TRUE",
            "text/latex": "TRUE",
            "text/plain": [
              "[1] TRUE"
            ]
          },
          "metadata": {}
        },
        {
          "output_type": "display_data",
          "data": {
            "text/html": [
              "4"
            ],
            "text/markdown": "4",
            "text/latex": "4",
            "text/plain": [
              "[1] 4"
            ]
          },
          "metadata": {}
        },
        {
          "output_type": "display_data",
          "data": {
            "text/html": [
              "27"
            ],
            "text/markdown": "27",
            "text/latex": "27",
            "text/plain": [
              "[1] 27"
            ]
          },
          "metadata": {}
        },
        {
          "output_type": "display_data",
          "data": {
            "text/html": [
              "1288"
            ],
            "text/markdown": "1288",
            "text/latex": "1288",
            "text/plain": [
              "[1] 1288"
            ]
          },
          "metadata": {}
        },
        {
          "output_type": "display_data",
          "data": {
            "text/html": [
              "21"
            ],
            "text/markdown": "21",
            "text/latex": "21",
            "text/plain": [
              "[1] 21"
            ]
          },
          "metadata": {}
        },
        {
          "output_type": "display_data",
          "data": {
            "text/plain": [
              "\n",
              "Call:\n",
              "glm(formula = target_H5_HPAI ~ 1 + Year + day_of_year + State + \n",
              "    County, family = binomial, data = data)\n",
              "\n",
              "Coefficients: (3 not defined because of singularities)\n",
              "                  Estimate Std. Error z value Pr(>|z|)    \n",
              "(Intercept)     -81.395933  20.283472  -4.013 6.00e-05 ***\n",
              "Year              0.039593   0.010054   3.938 8.21e-05 ***\n",
              "day_of_year       0.002007   0.000241   8.327  < 2e-16 ***\n",
              "StateLeinster   -13.452991 244.425257  -0.055  0.95611    \n",
              "StateMunster     -1.300761   0.309614  -4.201 2.65e-05 ***\n",
              "StateUlster     -13.244853 214.053803  -0.062  0.95066    \n",
              "CountyCavan      13.435037 214.054806   0.063  0.94995    \n",
              "CountyClare       0.062663   0.242408   0.259  0.79602    \n",
              "CountyCork        0.427239   0.229811   1.859  0.06301 .  \n",
              "CountyDonegal    11.656853 214.053758   0.054  0.95657    \n",
              "CountyDublin     13.372037 244.425157   0.055  0.95637    \n",
              "CountyGalway     -0.512378   0.231345  -2.215  0.02678 *  \n",
              "CountyKerry       0.332905   0.229865   1.448  0.14754    \n",
              "CountyKildare    11.705973 244.425871   0.048  0.96180    \n",
              "CountyKilkenny   12.518147 244.425384   0.051  0.95915    \n",
              "CountyLaoighis    0.082645 670.344382   0.000  0.99990    \n",
              "CountyLaois       0.171323 371.035366   0.000  0.99963    \n",
              "CountyLeitrim     0.938471   0.940651   0.998  0.31843    \n",
              "CountyLimerick    1.350625   0.264155   5.113 3.17e-07 ***\n",
              "CountyLouth      13.240435 244.425195   0.054  0.95680    \n",
              "CountyMayo       -0.828327   0.295671  -2.802  0.00509 ** \n",
              "CountyMeath      11.811457 244.425465   0.048  0.96146    \n",
              "CountyMonaghan          NA         NA      NA       NA    \n",
              "CountyOffaly     12.149114 244.425599   0.050  0.96036    \n",
              "CountyRoscommon   0.297137   0.345054   0.861  0.38917    \n",
              "CountySligo             NA         NA      NA       NA    \n",
              "CountyTipperary   0.173880   0.327463   0.531  0.59542    \n",
              "CountyWaterford         NA         NA      NA       NA    \n",
              "CountyWestmeath  12.138775 244.427334   0.050  0.96039    \n",
              "CountyWexford    12.653720 244.425173   0.052  0.95871    \n",
              "CountyWicklow    12.718754 244.425168   0.052  0.95850    \n",
              "---\n",
              "Signif. codes:  0 ‘***’ 0.001 ‘**’ 0.01 ‘*’ 0.05 ‘.’ 0.1 ‘ ’ 1\n",
              "\n",
              "(Dispersion parameter for binomial family taken to be 1)\n",
              "\n",
              "    Null deviance: 14177  on 16174  degrees of freedom\n",
              "Residual deviance: 13677  on 16147  degrees of freedom\n",
              "  (129 observations deleted due to missingness)\n",
              "AIC: 13733\n",
              "\n",
              "Number of Fisher Scoring iterations: 13\n"
            ]
          },
          "metadata": {}
        }
      ]
    },
    {
      "cell_type": "code",
      "source": [
        "table(data$County, data$target_H5_HPAI)"
      ],
      "metadata": {
        "collapsed": true,
        "id": "9-ec9RS8bxft",
        "outputId": "079d7402-1c14-455f-911b-4627e727fb0b",
        "colab": {
          "base_uri": "https://localhost:8080/",
          "height": 521
        }
      },
      "execution_count": null,
      "outputs": [
        {
          "output_type": "display_data",
          "data": {
            "text/plain": [
              "           \n",
              "               0    1\n",
              "  Carlow      13    0\n",
              "  Cavan        7    3\n",
              "  Clare      906   83\n",
              "  Cork      1117  158\n",
              "  Donegal    525   34\n",
              "  Dublin    4015 1176\n",
              "  Galway    2108  394\n",
              "  Kerry     1254  154\n",
              "  Kildare     59    3\n",
              "  Kilkenny    84   10\n",
              "  Laoighis     2    0\n",
              "  Laois       10    0\n",
              "  Leitrim      3    2\n",
              "  Limerick   172   55\n",
              "  Louth      236   64\n",
              "  Mayo       213   31\n",
              "  Meath      110    7\n",
              "  Monaghan    17    0\n",
              "  Offaly      60    5\n",
              "  Roscommon   50   21\n",
              "  Sligo       78   27\n",
              "  Tipperary  169   18\n",
              "  Waterford  270   24\n",
              "  Westmeath   17    1\n",
              "  Wexford    890  130\n",
              "  Wicklow   1216  174"
            ]
          },
          "metadata": {}
        }
      ]
    },
    {
      "cell_type": "code",
      "source": [
        "# Clustering analysis\n",
        "# Aggregate data by Year\n",
        "data <- data %>%\n",
        "  mutate(target_H5_HPAI = as.numeric(as.character(target_H5_HPAI)))\n",
        "\n",
        "yearly_summary <- data %>%\n",
        "  group_by(Year) %>%\n",
        "  summarize(\n",
        "    count_cases = n(),\n",
        "    avg_latitude = mean(Latitude, na.rm = TRUE),\n",
        "    avg_longitude = mean(Longitude, na.rm = TRUE),\n",
        "    h5_hpai_mean = mean(target_H5_HPAI, na.rm = TRUE)\n",
        "  )\n",
        "\n",
        "# Standardize the features\n",
        "features <- scale(yearly_summary[, c(\"count_cases\", \"avg_latitude\", \"avg_longitude\", \"h5_hpai_mean\")])\n",
        "\n",
        "# Determine optimal clusters using the Elbow Method\n",
        "wss <- sapply(1:10, function(k) {\n",
        "  kmeans(features, centers = k, nstart = 25)$tot.withinss\n",
        "})\n",
        "\n",
        "# Elbow Method Plot\n",
        "elbow_plot <- data.frame(k = 1:10, wss = wss)\n",
        "ggplot(elbow_plot, aes(x = k, y = wss)) +\n",
        "  geom_point() +\n",
        "  geom_line() +\n",
        "  labs(title = \"Elbow Method for Optimal k (Yearly Clustering)\",\n",
        "       x = \"Number of Clusters (k)\",\n",
        "       y = \"Total Within-Cluster Sum of Squares\") +\n",
        "  theme_minimal()\n",
        "cat(\"\\n\")\n",
        "\n",
        "# Apply K-means clustering with k=4\n",
        "set.seed(128)\n",
        "k <- 3\n",
        "kmeans_model <- kmeans(features, centers = k, nstart = 25)\n",
        "\n",
        "# Add cluster labels to the dataset\n",
        "yearly_summary$Cluster <- as.factor(kmeans_model$cluster)\n",
        "\n",
        "# Visualizing the clusters\n",
        "ggplot(yearly_summary, aes(x = Year, y = count_cases, color = Cluster)) +\n",
        "  geom_point(size = 3) +\n",
        "  labs(title = \"K-means Clustering of Years Based on Avian Influenza Data\",\n",
        "       x = \"Year\",\n",
        "       y = \"Number of Cases\") +\n",
        "  theme_minimal() +\n",
        "  scale_color_manual(values = c(\"blue\", \"red\", \"green\")) +\n",
        "  theme(legend.position = \"right\")"
      ],
      "metadata": {
        "id": "WYN3io8Bcdqh",
        "outputId": "d5e42e85-7930-46dd-e4dd-69f4ad0dc3d3",
        "colab": {
          "base_uri": "https://localhost:8080/",
          "height": 875
        }
      },
      "execution_count": null,
      "outputs": [
        {
          "output_type": "stream",
          "name": "stdout",
          "text": [
            "\n"
          ]
        },
        {
          "output_type": "display_data",
          "data": {
            "text/plain": [
              "plot without title"
            ],
            "image/png": "[encoded data removed]"
          },
          "metadata": {
            "image/png": {
              "width": 420,
              "height": 420
            }
          }
        },
        {
          "output_type": "display_data",
          "data": {
            "text/plain": [
              "plot without title"
            ],
            "image/png": "[encoded data removed]"
          },
          "metadata": {
            "image/png": {
              "width": 420,
              "height": 420
            }
          }
        }
      ]
    },
    {
      "cell_type": "code",
      "source": [
        "yearly_summary\n",
        "#features"
      ],
      "metadata": {
        "id": "ct2ubQeviM0k",
        "outputId": "c6d176ee-f99f-4b4d-e2b7-1dbc59e66065",
        "colab": {
          "base_uri": "https://localhost:8080/",
          "height": 756
        }
      },
      "execution_count": null,
      "outputs": [
        {
          "output_type": "display_data",
          "data": {
            "text/html": [
              "<table class=\"dataframe\">\n",
              "<caption>A tibble: 21 × 6</caption>\n",
              "<thead>\n",
              "\t<tr><th scope=col>Year</th><th scope=col>count_cases</th><th scope=col>avg_latitude</th><th scope=col>avg_longitude</th><th scope=col>h5_hpai_mean</th><th scope=col>Cluster</th></tr>\n",
              "\t<tr><th scope=col>&lt;int&gt;</th><th scope=col>&lt;int&gt;</th><th scope=col>&lt;dbl&gt;</th><th scope=col>&lt;dbl&gt;</th><th scope=col>&lt;dbl&gt;</th><th scope=col>&lt;fct&gt;</th></tr>\n",
              "</thead>\n",
              "<tbody>\n",
              "\t<tr><td>1980</td><td>   1</td><td>52.69630</td><td>-8.815300</td><td>0.00000000</td><td>1</td></tr>\n",
              "\t<tr><td>1999</td><td>   2</td><td>51.63050</td><td>-8.547000</td><td>0.00000000</td><td>1</td></tr>\n",
              "\t<tr><td>2002</td><td>   1</td><td>53.18360</td><td>-6.186300</td><td>0.00000000</td><td>3</td></tr>\n",
              "\t<tr><td>2003</td><td>  12</td><td>52.84914</td><td>-8.017067</td><td>0.08333333</td><td>2</td></tr>\n",
              "\t<tr><td>2004</td><td>  25</td><td>52.69942</td><td>-8.745204</td><td>0.00000000</td><td>1</td></tr>\n",
              "\t<tr><td>2005</td><td>  74</td><td>52.95788</td><td>-8.341885</td><td>0.09459459</td><td>2</td></tr>\n",
              "\t<tr><td>2006</td><td>   8</td><td>52.38449</td><td>-8.797175</td><td>0.00000000</td><td>1</td></tr>\n",
              "\t<tr><td>2007</td><td>  24</td><td>52.88931</td><td>-8.939592</td><td>0.29166667</td><td>2</td></tr>\n",
              "\t<tr><td>2008</td><td>  40</td><td>53.25602</td><td>-8.126100</td><td>0.17500000</td><td>2</td></tr>\n",
              "\t<tr><td>2009</td><td>  70</td><td>52.64517</td><td>-9.239457</td><td>0.08571429</td><td>1</td></tr>\n",
              "\t<tr><td>2010</td><td> 151</td><td>53.13472</td><td>-8.889679</td><td>0.11920530</td><td>2</td></tr>\n",
              "\t<tr><td>2011</td><td> 348</td><td>53.02931</td><td>-8.239362</td><td>0.13505747</td><td>2</td></tr>\n",
              "\t<tr><td>2012</td><td> 266</td><td>53.06035</td><td>-8.657325</td><td>0.07142857</td><td>2</td></tr>\n",
              "\t<tr><td>2013</td><td> 308</td><td>53.15315</td><td>-8.586976</td><td>0.08441558</td><td>2</td></tr>\n",
              "\t<tr><td>2014</td><td> 398</td><td>52.89345</td><td>-8.394261</td><td>0.11809045</td><td>2</td></tr>\n",
              "\t<tr><td>2015</td><td> 957</td><td>53.15694</td><td>-7.241742</td><td>0.22675026</td><td>4</td></tr>\n",
              "\t<tr><td>2016</td><td>2394</td><td>53.12603</td><td>-7.203854</td><td>0.16332498</td><td>4</td></tr>\n",
              "\t<tr><td>2017</td><td>2696</td><td>52.96731</td><td>-7.604048</td><td>0.14094955</td><td>4</td></tr>\n",
              "\t<tr><td>2018</td><td>3165</td><td>53.05720</td><td>-7.872762</td><td>0.16050553</td><td>4</td></tr>\n",
              "\t<tr><td>2019</td><td>5102</td><td>52.97245</td><td>-7.671292</td><td>0.17110937</td><td>4</td></tr>\n",
              "\t<tr><td>2020</td><td> 262</td><td>53.23977</td><td>-6.825885</td><td>0.11832061</td><td>3</td></tr>\n",
              "</tbody>\n",
              "</table>\n"
            ],
            "text/markdown": "\nA tibble: 21 × 6\n\n| Year &lt;int&gt; | count_cases &lt;int&gt; | avg_latitude &lt;dbl&gt; | avg_longitude &lt;dbl&gt; | h5_hpai_mean &lt;dbl&gt; | Cluster &lt;fct&gt; |\n|---|---|---|---|---|---|\n| 1980 |    1 | 52.69630 | -8.815300 | 0.00000000 | 1 |\n| 1999 |    2 | 51.63050 | -8.547000 | 0.00000000 | 1 |\n| 2002 |    1 | 53.18360 | -6.186300 | 0.00000000 | 3 |\n| 2003 |   12 | 52.84914 | -8.017067 | 0.08333333 | 2 |\n| 2004 |   25 | 52.69942 | -8.745204 | 0.00000000 | 1 |\n| 2005 |   74 | 52.95788 | -8.341885 | 0.09459459 | 2 |\n| 2006 |    8 | 52.38449 | -8.797175 | 0.00000000 | 1 |\n| 2007 |   24 | 52.88931 | -8.939592 | 0.29166667 | 2 |\n| 2008 |   40 | 53.25602 | -8.126100 | 0.17500000 | 2 |\n| 2009 |   70 | 52.64517 | -9.239457 | 0.08571429 | 1 |\n| 2010 |  151 | 53.13472 | -8.889679 | 0.11920530 | 2 |\n| 2011 |  348 | 53.02931 | -8.239362 | 0.13505747 | 2 |\n| 2012 |  266 | 53.06035 | -8.657325 | 0.07142857 | 2 |\n| 2013 |  308 | 53.15315 | -8.586976 | 0.08441558 | 2 |\n| 2014 |  398 | 52.89345 | -8.394261 | 0.11809045 | 2 |\n| 2015 |  957 | 53.15694 | -7.241742 | 0.22675026 | 4 |\n| 2016 | 2394 | 53.12603 | -7.203854 | 0.16332498 | 4 |\n| 2017 | 2696 | 52.96731 | -7.604048 | 0.14094955 | 4 |\n| 2018 | 3165 | 53.05720 | -7.872762 | 0.16050553 | 4 |\n| 2019 | 5102 | 52.97245 | -7.671292 | 0.17110937 | 4 |\n| 2020 |  262 | 53.23977 | -6.825885 | 0.11832061 | 3 |\n\n",
            "text/latex": "A tibble: 21 × 6\n\\begin{tabular}{llllll}\n Year & count\\_cases & avg\\_latitude & avg\\_longitude & h5\\_hpai\\_mean & Cluster\\\\\n <int> & <int> & <dbl> & <dbl> & <dbl> & <fct>\\\\\n\\hline\n\t 1980 &    1 & 52.69630 & -8.815300 & 0.00000000 & 1\\\\\n\t 1999 &    2 & 51.63050 & -8.547000 & 0.00000000 & 1\\\\\n\t 2002 &    1 & 53.18360 & -6.186300 & 0.00000000 & 3\\\\\n\t 2003 &   12 & 52.84914 & -8.017067 & 0.08333333 & 2\\\\\n\t 2004 &   25 & 52.69942 & -8.745204 & 0.00000000 & 1\\\\\n\t 2005 &   74 & 52.95788 & -8.341885 & 0.09459459 & 2\\\\\n\t 2006 &    8 & 52.38449 & -8.797175 & 0.00000000 & 1\\\\\n\t 2007 &   24 & 52.88931 & -8.939592 & 0.29166667 & 2\\\\\n\t 2008 &   40 & 53.25602 & -8.126100 & 0.17500000 & 2\\\\\n\t 2009 &   70 & 52.64517 & -9.239457 & 0.08571429 & 1\\\\\n\t 2010 &  151 & 53.13472 & -8.889679 & 0.11920530 & 2\\\\\n\t 2011 &  348 & 53.02931 & -8.239362 & 0.13505747 & 2\\\\\n\t 2012 &  266 & 53.06035 & -8.657325 & 0.07142857 & 2\\\\\n\t 2013 &  308 & 53.15315 & -8.586976 & 0.08441558 & 2\\\\\n\t 2014 &  398 & 52.89345 & -8.394261 & 0.11809045 & 2\\\\\n\t 2015 &  957 & 53.15694 & -7.241742 & 0.22675026 & 4\\\\\n\t 2016 & 2394 & 53.12603 & -7.203854 & 0.16332498 & 4\\\\\n\t 2017 & 2696 & 52.96731 & -7.604048 & 0.14094955 & 4\\\\\n\t 2018 & 3165 & 53.05720 & -7.872762 & 0.16050553 & 4\\\\\n\t 2019 & 5102 & 52.97245 & -7.671292 & 0.17110937 & 4\\\\\n\t 2020 &  262 & 53.23977 & -6.825885 & 0.11832061 & 3\\\\\n\\end{tabular}\n",
            "text/plain": [
              "   Year count_cases avg_latitude avg_longitude h5_hpai_mean Cluster\n",
              "1  1980    1        52.69630     -8.815300     0.00000000   1      \n",
              "2  1999    2        51.63050     -8.547000     0.00000000   1      \n",
              "3  2002    1        53.18360     -6.186300     0.00000000   3      \n",
              "4  2003   12        52.84914     -8.017067     0.08333333   2      \n",
              "5  2004   25        52.69942     -8.745204     0.00000000   1      \n",
              "6  2005   74        52.95788     -8.341885     0.09459459   2      \n",
              "7  2006    8        52.38449     -8.797175     0.00000000   1      \n",
              "8  2007   24        52.88931     -8.939592     0.29166667   2      \n",
              "9  2008   40        53.25602     -8.126100     0.17500000   2      \n",
              "10 2009   70        52.64517     -9.239457     0.08571429   1      \n",
              "11 2010  151        53.13472     -8.889679     0.11920530   2      \n",
              "12 2011  348        53.02931     -8.239362     0.13505747   2      \n",
              "13 2012  266        53.06035     -8.657325     0.07142857   2      \n",
              "14 2013  308        53.15315     -8.586976     0.08441558   2      \n",
              "15 2014  398        52.89345     -8.394261     0.11809045   2      \n",
              "16 2015  957        53.15694     -7.241742     0.22675026   4      \n",
              "17 2016 2394        53.12603     -7.203854     0.16332498   4      \n",
              "18 2017 2696        52.96731     -7.604048     0.14094955   4      \n",
              "19 2018 3165        53.05720     -7.872762     0.16050553   4      \n",
              "20 2019 5102        52.97245     -7.671292     0.17110937   4      \n",
              "21 2020  262        53.23977     -6.825885     0.11832061   3      "
            ]
          },
          "metadata": {}
        }
      ]
    }
  ]
}