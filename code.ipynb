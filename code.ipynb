{
  "nbformat": 4,
  "nbformat_minor": 0,
  "metadata": {
    "colab": {
      "provenance": [],
      "authorship_tag": "ABX9TyOqfvLWDJTbaKZr9GgZrU6y",
      "include_colab_link": true
    },
    "kernelspec": {
      "name": "ir",
      "display_name": "R"
    },
    "language_info": {
      "name": "R"
    }
  },
  "cells": [
    {
      "cell_type": "markdown",
      "metadata": {
        "id": "view-in-github",
        "colab_type": "text"
      },
      "source": [
        "<a href=\"https://colab.research.google.com/github/mpbeck/ANS-128-GP-The-Explorers-/blob/main/code.ipynb\" target=\"_parent\"><img src=\"https://colab.research.google.com/assets/colab-badge.svg\" alt=\"Open In Colab\"/></a>"
      ]
    },
    {
      "cell_type": "code",
      "execution_count": 3,
      "metadata": {
        "id": "cJ7TEaymTIV7",
        "collapsed": true
      },
      "outputs": [],
      "source": [
        "# Change runtime to R\n",
        "system(\"git clone https://github.com/mpbeck/ANS-128-GP-The-Explorers-.git\")"
      ]
    },
    {
      "cell_type": "code",
      "source": [
        "library(tidyverse)\n",
        "library(dplyr)\n",
        "library(lubridate)\n",
        "data <- read.csv(\"/content/ANS-128-GP-The-Explorers-/Avian Influenza (HPAI).csv\")\n",
        "class(data)"
      ],
      "metadata": {
        "colab": {
          "base_uri": "https://localhost:8080/",
          "height": 34
        },
        "id": "WDvMNBBtaYcH",
        "outputId": "2be398d8-b0d7-4257-b2a2-60a0839c9b44"
      },
      "execution_count": 20,
      "outputs": [
        {
          "output_type": "display_data",
          "data": {
            "text/html": [
              "'data.frame'"
            ],
            "text/markdown": "'data.frame'",
            "text/latex": "'data.frame'",
            "text/plain": [
              "[1] \"data.frame\""
            ]
          },
          "metadata": {}
        }
      ]
    },
    {
      "cell_type": "code",
      "source": [
        "# Data cleaning & regression analysis\n",
        "#summary(data$target_H5_HPAI)\n",
        "data <- data %>%\n",
        "  mutate(\n",
        "    Common_Name = str_replace_all(Common_Name, \" \", \"_\"),\n",
        "    Year = as.integer(as.character(Year)),\n",
        "    Month = as.integer(as.character(Month)),\n",
        "    Day = as.integer(as.character(Day)),\n",
        "    date = make_date(Year, Month, Day),\n",
        "    day_of_year = yday(date)\n",
        "  )\n",
        "\n",
        "head(data[, c(\"Year\", \"Month\", \"Day\", \"date\", \"day_of_year\")]) # Converted date to number of days in the given year\n",
        "\n",
        "num_species <- data %>%\n",
        "  distinct(Common_Name) %>%\n",
        "  nrow()\n",
        "length(unique(data$Common_Name)) == num_species # 410 species"
      ],
      "metadata": {
        "colab": {
          "base_uri": "https://localhost:8080/",
          "height": 303
        },
        "id": "7EfCe4aka267",
        "outputId": "074d07d1-427e-4a5a-d7c5-c656d157e639"
      },
      "execution_count": 23,
      "outputs": [
        {
          "output_type": "display_data",
          "data": {
            "text/html": [
              "<table class=\"dataframe\">\n",
              "<caption>A data.frame: 6 × 5</caption>\n",
              "<thead>\n",
              "\t<tr><th></th><th scope=col>Year</th><th scope=col>Month</th><th scope=col>Day</th><th scope=col>date</th><th scope=col>day_of_year</th></tr>\n",
              "\t<tr><th></th><th scope=col>&lt;int&gt;</th><th scope=col>&lt;int&gt;</th><th scope=col>&lt;int&gt;</th><th scope=col>&lt;date&gt;</th><th scope=col>&lt;dbl&gt;</th></tr>\n",
              "</thead>\n",
              "<tbody>\n",
              "\t<tr><th scope=row>1</th><td>2015</td><td>9</td><td>15</td><td>2015-09-15</td><td>258</td></tr>\n",
              "\t<tr><th scope=row>2</th><td>2015</td><td>9</td><td>15</td><td>2015-09-15</td><td>258</td></tr>\n",
              "\t<tr><th scope=row>3</th><td>2015</td><td>9</td><td>15</td><td>2015-09-15</td><td>258</td></tr>\n",
              "\t<tr><th scope=row>4</th><td>2015</td><td>9</td><td>15</td><td>2015-09-15</td><td>258</td></tr>\n",
              "\t<tr><th scope=row>5</th><td>2015</td><td>9</td><td>15</td><td>2015-09-15</td><td>258</td></tr>\n",
              "\t<tr><th scope=row>6</th><td>2015</td><td>9</td><td>15</td><td>2015-09-15</td><td>258</td></tr>\n",
              "</tbody>\n",
              "</table>\n"
            ],
            "text/markdown": "\nA data.frame: 6 × 5\n\n| <!--/--> | Year &lt;int&gt; | Month &lt;int&gt; | Day &lt;int&gt; | date &lt;date&gt; | day_of_year &lt;dbl&gt; |\n|---|---|---|---|---|---|\n| 1 | 2015 | 9 | 15 | 2015-09-15 | 258 |\n| 2 | 2015 | 9 | 15 | 2015-09-15 | 258 |\n| 3 | 2015 | 9 | 15 | 2015-09-15 | 258 |\n| 4 | 2015 | 9 | 15 | 2015-09-15 | 258 |\n| 5 | 2015 | 9 | 15 | 2015-09-15 | 258 |\n| 6 | 2015 | 9 | 15 | 2015-09-15 | 258 |\n\n",
            "text/latex": "A data.frame: 6 × 5\n\\begin{tabular}{r|lllll}\n  & Year & Month & Day & date & day\\_of\\_year\\\\\n  & <int> & <int> & <int> & <date> & <dbl>\\\\\n\\hline\n\t1 & 2015 & 9 & 15 & 2015-09-15 & 258\\\\\n\t2 & 2015 & 9 & 15 & 2015-09-15 & 258\\\\\n\t3 & 2015 & 9 & 15 & 2015-09-15 & 258\\\\\n\t4 & 2015 & 9 & 15 & 2015-09-15 & 258\\\\\n\t5 & 2015 & 9 & 15 & 2015-09-15 & 258\\\\\n\t6 & 2015 & 9 & 15 & 2015-09-15 & 258\\\\\n\\end{tabular}\n",
            "text/plain": [
              "  Year Month Day date       day_of_year\n",
              "1 2015 9     15  2015-09-15 258        \n",
              "2 2015 9     15  2015-09-15 258        \n",
              "3 2015 9     15  2015-09-15 258        \n",
              "4 2015 9     15  2015-09-15 258        \n",
              "5 2015 9     15  2015-09-15 258        \n",
              "6 2015 9     15  2015-09-15 258        "
            ]
          },
          "metadata": {}
        },
        {
          "output_type": "display_data",
          "data": {
            "text/html": [
              "TRUE"
            ],
            "text/markdown": "TRUE",
            "text/latex": "TRUE",
            "text/plain": [
              "[1] TRUE"
            ]
          },
          "metadata": {}
        }
      ]
    }
  ]
}